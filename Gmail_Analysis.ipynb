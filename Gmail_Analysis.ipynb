{
 "cells": [
  {
   "cell_type": "markdown",
   "metadata": {},
   "source": [
    "\n",
    "#### Import packages"
   ]
  },
  {
   "cell_type": "code",
   "execution_count": null,
   "metadata": {},
   "outputs": [],
   "source": [
    "# Import necessary packages\n",
    "import imaplib\n",
    "import email\n",
    "import os\n",
    "import pandas as pd\n",
    "from email.header import decode_header\n",
    "import logging\n",
    "import json\n",
    "import yaml"
   ]
  },
  {
   "cell_type": "code",
   "execution_count": null,
   "metadata": {},
   "outputs": [],
   "source": [
    "# Setup basic configuration for logging\n",
    "# This configuration logs informational and more severe messages with timestamps and severity level\n",
    "logging.basicConfig(level=logging.INFO, format='%(asctime)s - %(levelname)s - %(message)s')\n"
   ]
  },
  {
   "cell_type": "markdown",
   "metadata": {},
   "source": [
    "### Loading of credentials for gmail account \n",
    "\n",
    "The following function loads the credentials for my gmail account from a yaml "
   ]
  },
  {
   "cell_type": "code",
   "execution_count": null,
   "metadata": {},
   "outputs": [],
   "source": [
    "# Function to load credentials from a YAML file\n",
    "def load_credentials(filepath):\n",
    "    \"\"\"\n",
    "    Load user credentials from a YAML file for email login.\n",
    "    \n",
    "    Parameters:\n",
    "        filepath (str): The path to the YAML file containing the credentials.\n",
    "        \n",
    "    Returns:\n",
    "        tuple: Returns a tuple containing the username and password if successful.\n",
    "        \n",
    "    Raises:\n",
    "        FileNotFoundError: If the YAML file cannot be found.\n",
    "        ValueError: If credentials are not correctly formatted or are missing.\n",
    "        yaml.YAMLError: If there is an error parsing the YAML.\n",
    "    \"\"\"\n",
    "    try:\n",
    "        with open(filepath, 'r') as file:\n",
    "            content = file.read()\n",
    "            credentials = yaml.load(content, Loader=yaml.FullLoader)\n",
    "            user = credentials.get('user')\n",
    "            password = credentials.get('password')\n",
    "            \n",
    "            if not user or not password:\n",
    "                logging.error(\"User or password missing in the provided YAML file.\")\n",
    "                raise ValueError(\"Credentials not found or incomplete in yaml file.\")\n",
    "            return user, password\n",
    "    except FileNotFoundError:\n",
    "        logging.error(\"The specified YAML file was not found: {}\".format(filepath))\n",
    "        raise\n",
    "    except yaml.YAMLError as e:\n",
    "        logging.error(\"Error parsing YAML file: {}\".format(e))\n",
    "        raise"
   ]
  },
  {
   "cell_type": "markdown",
   "metadata": {},
   "source": [
    "The following function connects to Gmail's server using the credentials that have just been loaded "
   ]
  },
  {
   "cell_type": "code",
   "execution_count": null,
   "metadata": {},
   "outputs": [],
   "source": [
    "\n",
    "# Function to connect to Gmail's IMAP server\n",
    "def connect_to_gmail_imap(user, password):\n",
    "    \"\"\"\n",
    "    Connect to the Gmail IMAP server and log in using the provided credentials.\n",
    "    \n",
    "    Parameters:\n",
    "        user (str): The username (email address) for Gmail.\n",
    "        password (str): The password for the Gmail account.\n",
    "        \n",
    "    Returns:\n",
    "        IMAP4_SSL: An imaplib IMAP4_SSL object with the 'Inbox' selected.\n",
    "        \n",
    "    Raises:\n",
    "        imaplib.IMAP4.error: If there are issues during the login or selecting the inbox.\n",
    "        Exception: For handling other unexpected errors.\n",
    "    \"\"\"\n",
    "    imap_url = 'imap.gmail.com'\n",
    "    try:\n",
    "        my_mail = imaplib.IMAP4_SSL(imap_url)\n",
    "        my_mail.login(user, password)\n",
    "        my_mail.select('Inbox')\n",
    "        logging.info(\"Connected to Gmail and selected Inbox successfully.\")\n",
    "        return my_mail\n",
    "    except imaplib.IMAP4.error as e:\n",
    "        logging.error(\"Error during IMAP login or Inbox selection: {}\".format(e))\n",
    "        raise\n",
    "    except Exception as e:\n",
    "        logging.error(\"Unexpected error: {}\".format(e))\n",
    "        raise\n"
   ]
  },
  {
   "cell_type": "markdown",
   "metadata": {},
   "source": [
    "List of email addresses to delete the emails which has been added to a separate json file. \n"
   ]
  },
  {
   "cell_type": "code",
   "execution_count": null,
   "metadata": {},
   "outputs": [],
   "source": [
    "\n",
    "# Function to load a list of email addresses from a JSON file\n",
    "def load_email_list(filepath):\n",
    "    \"\"\"\n",
    "    Load a list of email addresses to be processed from a JSON file.\n",
    "    \n",
    "    Parameters:\n",
    "        filepath (str): The path to the JSON file containing email addresses.\n",
    "        \n",
    "    Returns:\n",
    "        list: A list of email addresses.\n",
    "    \"\"\"\n",
    "    with open(filepath, 'r') as file:\n",
    "        data = json.load(file)\n",
    "        return data['emails']\n"
   ]
  },
  {
   "cell_type": "markdown",
   "metadata": {},
   "source": [
    "Number of emails per email address "
   ]
  },
  {
   "cell_type": "code",
   "execution_count": null,
   "metadata": {},
   "outputs": [],
   "source": [
    "\n",
    "# Function to identify and flag emails for deletion based on sender address\n",
    "def get_emails_to_delete(mail, filepath):\n",
    "    \"\"\"\n",
    "    Search and mark emails for deletion from specified senders.\n",
    "    \n",
    "    Parameters:\n",
    "        mail (IMAP4_SSL): The mail connection object.\n",
    "        filepath (str): Path to the JSON file containing email addresses to be processed.\n",
    "        \n",
    "    Returns:\n",
    "        DataFrame: A DataFrame containing email addresses and the count of emails marked for deletion.\n",
    "    \"\"\"\n",
    "    list_of_emails = load_email_list(filepath)\n",
    "    email_summary = pd.DataFrame(columns=['Email address', 'Number of email messages to be deleted'])\n",
    "\n",
    "    for email_address in list_of_emails:\n",
    "        try:\n",
    "            status, messages = mail.search(None, f'FROM \"{email_address}\"')\n",
    "            messages = messages[0].split()\n",
    "            email_summary.loc[len(email_summary)] = [email_address, len(messages)]\n",
    "\n",
    "            for msg_id in messages:\n",
    "                mail.store(msg_id, \"+FLAGS\", \"\\\\Deleted\")\n",
    "            logging.info(f\"Marked {len(messages)} emails from {email_address} for deletion.\")\n",
    "        except imaplib.IMAP4.error as e:\n",
    "            logging.error(f\"Error processing emails from {email_address}: {e}\")\n",
    "\n",
    "    return email_summary"
   ]
  },
  {
   "cell_type": "markdown",
   "metadata": {},
   "source": [
    "Finally run all the code and print the code"
   ]
  },
  {
   "cell_type": "code",
   "execution_count": null,
   "metadata": {},
   "outputs": [],
   "source": [
    "\n",
    "def main():\n",
    "    \"\"\"\n",
    "    Main function to execute the program.\n",
    "    \n",
    "    This function handles the sequence of operations starting from loading credentials, \n",
    "    connecting to the Gmail IMAP server, loading a list of email addresses from a file, \n",
    "    marking emails for deletion based on those addresses, and finally cleaning up the IMAP session.\n",
    "    \n",
    "    The function uses a structured exception handling approach to manage errors that \n",
    "    might occur during the loading of credentials or IMAP operations.\n",
    "    \"\"\"\n",
    "    # Path to the YAML file containing credentials for the Gmail account.\n",
    "    credentials_path = 'Password_folders/gmail_access.yaml'\n",
    "    \n",
    "    try:\n",
    "        # Attempt to load credentials from the specified YAML file.\n",
    "        user, password = load_credentials(credentials_path)\n",
    "    except Exception as e:\n",
    "        # Handle any exceptions that occur during credential loading and exit the program.\n",
    "        print(\"Failed to load credentials: {}\".format(e))\n",
    "        return  # Exit the function if credentials can't be loaded.\n",
    "\n",
    "    # Assuming credentials are loaded successfully, establish an IMAP connection.\n",
    "    try:\n",
    "        mail = connect_to_gmail_imap(user, password)\n",
    "    except Exception as e:\n",
    "        # Handle possible exceptions during the connection to the IMAP server.\n",
    "        print(\"Failed to connect to Gmail IMAP: {}\".format(e))\n",
    "        return  # Exit the function if the connection can't be established.\n",
    "\n",
    "    # Path to the JSON file containing a list of email addresses to process.\n",
    "    email_list_filepath = 'Password_folders/email_list.json'\n",
    "    \n",
    "    try:\n",
    "        # Load the list and mark emails from specified senders for deletion.\n",
    "        summary = get_emails_to_delete(mail, email_list_filepath)\n",
    "        print(summary)  # Print the summary of operations.\n",
    "    except Exception as e:\n",
    "        # Handle possible exceptions from email processing.\n",
    "        print(\"Failed to process emails: {}\".format(e))\n",
    "\n",
    "    # Always execute cleanup regardless of earlier errors.\n",
    "    finally:\n",
    "        # Clean up IMAP session: mark emails for deletion, close connection, and logout.\n",
    "        try:\n",
    "            mail.expunge()  # Permanently remove emails marked for deletion.\n",
    "            mail.close()    # Close the currently selected mailbox.\n",
    "            mail.logout()   # Logout from the server.\n",
    "        except Exception as e:\n",
    "            print(\"Failed during cleanup of IMAP session: {}\".format(e))\n",
    "\n",
    "if __name__ == \"__main__\":\n",
    "    main()\n"
   ]
  }
 ],
 "metadata": {
  "kernelspec": {
   "display_name": "Python 3.8.10 ('base')",
   "language": "python",
   "name": "python3"
  },
  "language_info": {
   "codemirror_mode": {
    "name": "ipython",
    "version": 3
   },
   "file_extension": ".py",
   "mimetype": "text/x-python",
   "name": "python",
   "nbconvert_exporter": "python",
   "pygments_lexer": "ipython3",
   "version": "3.8.10"
  },
  "orig_nbformat": 4,
  "vscode": {
   "interpreter": {
    "hash": "40d3a090f54c6569ab1632332b64b2c03c39dcf918b08424e98f38b5ae0af88f"
   }
  }
 },
 "nbformat": 4,
 "nbformat_minor": 2
}
